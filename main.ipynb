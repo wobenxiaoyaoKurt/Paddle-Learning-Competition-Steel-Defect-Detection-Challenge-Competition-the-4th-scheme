{
 "cells": [
  {
   "cell_type": "markdown",
   "metadata": {},
   "source": [
    "# **0 模型构建思路及调优过程**\n",
    "\n",
    "# **0.1.1 完整算法结构框图**\n",
    "\n",
    "本项目采用faster rcnn 的swin transformer和r101分别训练，然后将两个模型的结果进行融合\n",
    "\n",
    "swin transformer结构框图\n",
    "![](https://ai-studio-static-online.cdn.bcebos.com/26d3a837358347478a3d648fa03869c48b4491cbdc1549e6b6e7aeda28cdefb2)\n",
    "\n",
    "r101结构框图\n",
    "![](https://ai-studio-static-online.cdn.bcebos.com/aa90531cfc6f4c788c06493376759769e6759af6dc6a4753ae72c1c70efc0b39)\n",
    "\n",
    "# **0.1.2 思路步骤详述**\n",
    "\n",
    "项目首先进行数据预处理，然后分别利用faster rcnn的swin transformer和r101架构进行训练，最后将模型预测结果利用WBF进行融合。\n",
    "NMS和soft-NMS都排除了一些框，但是WBF利用了所有框的信息。它可以解决某些情况下，模型预测的框不准确。NMS将只能留下一个不准确的框，而WBF将使用来自3个框的信息来修复它，如下图所示，红色的为预测，蓝色的为真值。\n",
    "\n",
    "![](https://ai-studio-static-online.cdn.bcebos.com/8efbab1a3a4348649baf6c24984d60eff04b2bd73916402db9804e4c79e136ac)\n",
    "\n",
    "# **0.1.3 代码组织结构介绍**\n",
    "\n",
    "项目代码目录\n",
    "\n",
    "0 模型构建思路及调优过程\n",
    "\n",
    "1 比赛介绍\n",
    "\n",
    "2 数据介绍\n",
    "\n",
    "3 环境准备\n",
    "\n",
    "4 数据准备\n",
    "\n",
    "5 数据增强\n",
    "\n",
    "6 训练模型\n",
    "\n",
    "7 检测结果\n",
    "\n",
    "8 融合结果\n",
    "\n",
    "# **0.2 数据增强/清晰策略**\n",
    "\n",
    "项目尝试进行数据增强，通过实验结果分析，增强效果不明显，故最后没有使用数据增强\n",
    "\n",
    "\n",
    "# **0.3 调参优化策略**\n",
    "项目首先将train数据集进行训练集：验证集=9：1进行划分，通过loss以及mAP调整学习率和衰减轮次等参数。\n",
    "最后调整到结果较好时，保持训练超参数不变，将所有train数据全部用于训练\n",
    "\n",
    "# **0.4训练脚本/代码**\n",
    "见6 训练模型，训练日志保存在/home/aistudio/log\n",
    "\n",
    "# **0.5测试脚本/代码**\n",
    "见7 检测结果，测试集为比赛测试数据，无标签，测试结果保存在/home/aistudio/Csv"
   ]
  },
  {
   "cell_type": "markdown",
   "metadata": {},
   "source": [
    "# **1 比赛介绍**\n",
    "缺陷检测技术广泛应用于工业场景，比如汽车制造中的车身表面缺陷检测，零件外观缺陷检测，工件裂纹检测等。其中，金属表面缺陷识别技术的应用可以在生产及制造阶段的质量控制方面发挥重要作用。\n",
    "\n",
    "本次比赛为图像目标识别比赛，要求参赛选手基于给定图像建立模型，识别出钢铁表面出现缺陷的位置，并给出锚点框的坐标，同时对不同的缺陷进行分类。通过本次比赛，我们希望看到各种泛化性能更好且更稳定的钢铁表面缺陷识别模型，您的工作也将为传统钢铁产业生产效率的提升做出重要贡献。"
   ]
  },
  {
   "cell_type": "markdown",
   "metadata": {},
   "source": [
    "# **2 数据介绍**\n",
    "东北大学宋克臣教授提供的可开放使用的表面缺陷检测数据集"
   ]
  },
  {
   "cell_type": "markdown",
   "metadata": {},
   "source": [
    "# **3 环境准备**\n",
    "为实验配置相应的环境"
   ]
  },
  {
   "cell_type": "code",
   "execution_count": null,
   "metadata": {
    "scrolled": true,
    "tags": []
   },
   "outputs": [],
   "source": [
    "!pip config list\n",
    "# 安装paddlex 用于拆分数据集\n",
    "# 升级pip\n",
    "!pip install --upgrade pip -i https://mirror.baidu.com/pypi/simple\n",
    "!pip install \"paddlex>2.0.0\" -i https://mirror.baidu.com/pypi/simple \n",
    "# 统计数据\n",
    "!pip install scikit-image\n",
    "!pip install lxml\n",
    "# # 下载PaddleDetection \n",
    "%cd /home/aistudio/work\n",
    "!git clone https://gitee.com/paddlepaddle/PaddleDetection.git -b release/2.3 \n",
    "# 安装其它依赖\n",
    "!pip install -r /home/aistudio/work/PaddleDetection/requirements.txt  \n",
    "# 临时环境安装\n",
    "!pip install pycocotools -i https://mirror.baidu.com/pypi/simple\n",
    "!pip install lap -i https://mirror.baidu.com/pypi/simple\n",
    "!pip install ensemble-boxes   "
   ]
  },
  {
   "cell_type": "markdown",
   "metadata": {},
   "source": [
    "# **4 数据准备**\n",
    "分析实验数据\n",
    "划分训练集测试集"
   ]
  },
  {
   "cell_type": "code",
   "execution_count": null,
   "metadata": {
    "scrolled": true,
    "tags": []
   },
   "outputs": [],
   "source": [
    "# 解压文件并移除多余的目录\n",
    "! unzip /home/aistudio/data/data105746/train.zip -d /home/aistudio/data/steel\n",
    "!rm -r /home/aistudio/data/steel/__MACOSX\n",
    "! unzip /home/aistudio/data/data105747/test.zip -d /home/aistudio/data/steel\n",
    "!rm -r /home/aistudio/data/steel/__MACOSX\n",
    "\n",
    "# 修改文件名字 JPEGImages  Annotations\n",
    "!mv /home/aistudio/data/steel/train/ANNOTATIONS  /home/aistudio/data/steel/train/Annotations\n",
    "!mv /home/aistudio/data/steel/train/IMAGES  /home/aistudio/data/steel/train/JPEGImages"
   ]
  },
  {
   "cell_type": "code",
   "execution_count": null,
   "metadata": {
    "scrolled": true
   },
   "outputs": [],
   "source": [
    "# 分析实验数据\n",
    "!python /home/aistudio/strongData/sample_num.py  "
   ]
  },
  {
   "cell_type": "code",
   "execution_count": null,
   "metadata": {
    "scrolled": true
   },
   "outputs": [],
   "source": [
    "#使用paddleX拆分数据集\n",
    "!paddlex --split_dataset --format VOC --dataset_dir /home/aistudio/data/steel/train --val_value 0.001 --test_value 0.0\n",
    "%cd /home/aistudio/work/PaddleDetection/\n",
    "#转换train\n",
    "!python tools/x2coco.py \\\n",
    "        --dataset_type voc \\\n",
    "        --voc_anno_dir /home/aistudio/data/steel/train/ \\\n",
    "--voc_anno_list /home/aistudio/data/steel/train/train_list.txt \\\n",
    "--voc_label_list /home/aistudio/data/steel/train/labels.txt \\\n",
    "--voc_out_name /home/aistudio/data/steel/train/voc_train.json\n",
    "\n",
    "#转换test\n",
    "!python tools/x2coco.py \\\n",
    "        --dataset_type voc \\\n",
    "        --voc_anno_dir /home/aistudio/data/steel/train/ \\\n",
    "--voc_anno_list /home/aistudio/data/steel/train/val_list.txt \\\n",
    "--voc_label_list /home/aistudio/data/steel/train/labels.txt \\\n",
    "--voc_out_name /home/aistudio/data/steel/train/voc_val.json\n",
    "\n",
    "!rm -r /home/aistudio/data/steel/train/Annotations/*\n",
    "!mv /home/aistudio/data/steel/train/*.json /home/aistudio/data/steel/train/Annotations/"
   ]
  },
  {
   "cell_type": "markdown",
   "metadata": {},
   "source": [
    "# **5 数据增强**\n",
    "经过实验对比 增强前和增强后好像并没有提高太多的效果 所以这里我最后还是没用\n",
    "可能是我增强的方式有问题 你们可以试试"
   ]
  },
  {
   "cell_type": "code",
   "execution_count": null,
   "metadata": {
    "scrolled": true
   },
   "outputs": [],
   "source": [
    "# # 数据增强 基准数扩充2倍\n",
    "# !python /home/aistudio/strongData/strong.py\n",
    "# # 合并增强数据\n",
    "# !mv /home/aistudio/data/steel/train/AugAnnotations/* /home/aistudio/data/steel/train/Annotations\n",
    "# !mv /home/aistudio/data/steel/train/AugJPEGImages/* /home/aistudio/data/steel/train/JPEGImages\n",
    "# # 清除空目录\n",
    "# !rm -rf /home/aistudio/data/steel/train/AugAnnotations\n",
    "# !rm -rf /home/aistudio/data/steel/train/AugJPEGImages"
   ]
  },
  {
   "cell_type": "markdown",
   "metadata": {},
   "source": [
    "# **6 训练模型**\n",
    "经过多次实验 观察到faster rcnn的Swin和r101 效果是最好的 训练这两个模型\n",
    "注意训练前配置好dataset的路径"
   ]
  },
  {
   "cell_type": "code",
   "execution_count": null,
   "metadata": {
    "scrolled": true
   },
   "outputs": [],
   "source": [
    "# 训练\n",
    "!python tools/train.py -c /home/aistudio/work/PaddleDetection/configs/faster_rcnn/faster_rcnn_swin_tiny_fpn_3x_coco.yml --use_vdl=true --vdl_log_dir=vdl_dir/scalar --eval"
   ]
  },
  {
   "cell_type": "code",
   "execution_count": null,
   "metadata": {
    "scrolled": true
   },
   "outputs": [],
   "source": [
    "# 训练\n",
    "!python tools/train.py -c /home/aistudio/work/PaddleDetection/configs/faster_rcnn/faster_rcnn_r101_vd_fpn_2x_coco.yml --use_vdl=true --vdl_log_dir=vdl_dir/scalar --eval"
   ]
  },
  {
   "cell_type": "markdown",
   "metadata": {},
   "source": [
    "# **7 检测结果**"
   ]
  },
  {
   "cell_type": "code",
   "execution_count": null,
   "metadata": {
    "scrolled": true
   },
   "outputs": [],
   "source": [
    "# Swin\n",
    "%cd /home/aistudio/work/PaddleDetection\n",
    "\n",
    "!python tools/infer.py -c  configs/faster_rcnn/faster_rcnn_swin_tiny_fpn_3x_coco.yml \\\n",
    "-o weights=/home/aistudio/work/PaddleDetection/output/faster_rcnn_swin_tiny_fpn_3x_coco/model_final \\\n",
    "--infer_dir=/home/aistudio/data/steel/test/IMAGES/ \\\n",
    "--output_dir=/home/aistudio/data/steel/infer_output\\\n",
    "--draw_threshold=0.0000001 --save_txt=True"
   ]
  },
  {
   "cell_type": "code",
   "execution_count": null,
   "metadata": {
    "scrolled": true
   },
   "outputs": [],
   "source": [
    "# 将Swin模型的检测结果保存为csv文件\n",
    "import csv\n",
    "import os\n",
    "headers = ['image_id','bbox','category_id','confidence']\n",
    "classList = ['crazing','inclusion','pitted_surface','scratches','patches','rolled-in_scale']\n",
    "rows = []\n",
    "\n",
    "rootdir = '/home/aistudio/data/steel/infer_output'\n",
    "lists = os.listdir(rootdir) #列出文件夹下所有的目录与文件\n",
    "for i in range(0,len(lists)):\n",
    "       path = os.path.join(rootdir,lists[i])\n",
    "       if os.path.isfile(path) and path.endswith('txt'):\n",
    "           txtFile = open(path)\n",
    "           print(path)\n",
    "           result = txtFile.readlines()\n",
    "           for r in result:\n",
    "               ls = r.split(' ')\n",
    "               Cls = ls[0]\n",
    "               sco = float(ls[1])\n",
    "              #  if sco < 0.0001:\n",
    "              #    continue;\n",
    "               xmin = float(ls[2])\n",
    "               ymin = float(ls[3])\n",
    "               w = float(ls[4])\n",
    "               h = float(ls[5])\n",
    "               xmax = xmin+w\n",
    "               ymax = ymin+h\n",
    "               clsID = classList.index(Cls)\n",
    "               imgID = lists[i][:-4]\n",
    "               row = [imgID,[xmin,ymin,xmax,ymax],clsID,sco]\n",
    "               rows.append(row)\n",
    "with open('/home/aistudio/Csv/比赛提交/Swin/submission.csv','w')as f:\n",
    "    f_csv = csv.writer(f)\n",
    "    f_csv.writerow(headers)\n",
    "    f_csv.writerows(rows)\n",
    "\n",
    "import pandas as pd\n",
    "datafile = pd.read_csv('/home/aistudio/Csv/比赛提交/Swin/submission.csv')\n",
    "# 按照列值排序\n",
    "data = datafile.sort_values(by=\"image_id\", ascending=True)\n",
    "data.to_csv('/home/aistudio/Csv/比赛提交/Swin/submission_final.csv', mode='a+', index=False)"
   ]
  },
  {
   "cell_type": "code",
   "execution_count": null,
   "metadata": {
    "scrolled": true
   },
   "outputs": [],
   "source": [
    "# r101\n",
    "%cd /home/aistudio/work/PaddleDetection\n",
    "\n",
    "!python tools/infer.py -c  configs/faster_rcnn/faster_rcnn_r101_vd_fpn_2x_coco.yml \\\n",
    "-o weights=/home/aistudio/work/PaddleDetection/output/faster_rcnn_r101_vd_fpn_2x_coco/model_final \\\n",
    "--infer_dir=/home/aistudio/data/steel/test/IMAGES/ \\\n",
    "--output_dir=/home/aistudio/data/steel/infer_output\\\n",
    "--draw_threshold=0.0000001 --save_txt=True"
   ]
  },
  {
   "cell_type": "code",
   "execution_count": null,
   "metadata": {
    "scrolled": true
   },
   "outputs": [],
   "source": [
    "# 将r101模型的检测结果保存为csv文件\n",
    "import csv\n",
    "import os\n",
    "headers = ['image_id','bbox','category_id','confidence']\n",
    "classList = ['crazing','inclusion','pitted_surface','scratches','patches','rolled-in_scale']\n",
    "rows = []\n",
    "\n",
    "rootdir = '/home/aistudio/data/steel/infer_output'\n",
    "lists = os.listdir(rootdir) #列出文件夹下所有的目录与文件\n",
    "for i in range(0,len(lists)):\n",
    "       path = os.path.join(rootdir,lists[i])\n",
    "       if os.path.isfile(path) and path.endswith('txt'):\n",
    "           txtFile = open(path)\n",
    "           print(path)\n",
    "           result = txtFile.readlines()\n",
    "           for r in result:\n",
    "               ls = r.split(' ')\n",
    "               Cls = ls[0]\n",
    "               sco = float(ls[1])\n",
    "              #  if sco < 0.0001:\n",
    "              #    continue;\n",
    "               xmin = float(ls[2])\n",
    "               ymin = float(ls[3])\n",
    "               w = float(ls[4])\n",
    "               h = float(ls[5])\n",
    "               xmax = xmin+w\n",
    "               ymax = ymin+h\n",
    "               clsID = classList.index(Cls)\n",
    "               imgID = lists[i][:-4]\n",
    "               row = [imgID,[xmin,ymin,xmax,ymax],clsID,sco]\n",
    "               rows.append(row)\n",
    "with open('/home/aistudio/Csv/比赛提交/r101/submission.csv','w')as f:\n",
    "    f_csv = csv.writer(f)\n",
    "    f_csv.writerow(headers)\n",
    "    f_csv.writerows(rows)\n",
    "\n",
    "import pandas as pd\n",
    "datafile = pd.read_csv('/home/aistudio/Csv/比赛提交/r101/submission.csv')\n",
    "# 按照列值排序\n",
    "data = datafile.sort_values(by=\"image_id\", ascending=True)\n",
    "data.to_csv('/home/aistudio/Csv/比赛提交/r101/submission_final.csv', mode='a+', index=False)"
   ]
  },
  {
   "cell_type": "markdown",
   "metadata": {},
   "source": [
    "# **8 融合结果**\n",
    "将两组结果融合"
   ]
  },
  {
   "cell_type": "code",
   "execution_count": null,
   "metadata": {
    "scrolled": true
   },
   "outputs": [],
   "source": [
    "# 融合两个模型\n",
    "import numpy as np\n",
    "from ensemble_boxes import *\n",
    "import pandas as pd\n",
    "import csv\n",
    "\n",
    "# 定义融合两个模型结果的函数\n",
    "def wbf_2models(filename1, filename2, weights, iou_thr):\n",
    "    df1=pd.read_csv(filename1)\n",
    "    df2=pd.read_csv(filename2)\n",
    "\n",
    "    box1=[]\n",
    "    box2=[]\n",
    "    label1=[]\n",
    "    label2=[]\n",
    "    score1=[]\n",
    "    score2=[]\n",
    "    j=0\n",
    "    k=0\n",
    "    for i in range(400):\n",
    "        box1.append([])\n",
    "        box2.append([])\n",
    "        label1.append([])\n",
    "        label2.append([])\n",
    "        score1.append([])\n",
    "        score2.append([])\n",
    "\n",
    "    # 将结果文件中的数据放入列表中，方便处理\n",
    "    for id1 in range(1400,1800):    \n",
    "        while j<len(df1) and df1['image_id'][j]==id1:\n",
    "            box1[id1-1400].append(eval(df1['bbox'][j]))\n",
    "            label1[id1-1400].append(df1['category_id'][j])\n",
    "            score1[id1-1400].append(df1['confidence'][j])\n",
    "            j+=1\n",
    "        while k<len(df2) and df2['image_id'][k]==id1:\n",
    "            box2[id1-1400].append(eval(df2['bbox'][k]))\n",
    "            label2[id1-1400].append(df2['category_id'][k])\n",
    "            score2[id1-1400].append(df2['confidence'][k])\n",
    "            k+=1\n",
    "\n",
    "    for l in range(len(box1)):  \n",
    "        for i in range(len(box1[l])):\n",
    "            box1[l][i][0]=box1[l][i][0]/200.0         # 归一化处理\n",
    "            box1[l][i][1]=box1[l][i][1]/200.0\n",
    "            box1[l][i][2]=box1[l][i][2]/200.0\n",
    "            box1[l][i][3]=box1[l][i][3]/200.0\n",
    "        for i in range(len(box2[l])):\n",
    "            box2[l][i][0]=box2[l][i][0]/200.0\n",
    "            box2[l][i][1]=box2[l][i][1]/200.0\n",
    "            box2[l][i][2]=box2[l][i][2]/200.0\n",
    "            box2[l][i][3]=box2[l][i][3]/200.0\n",
    "\n",
    "    boxes=[]\n",
    "    scores=[]\n",
    "    labels=[]\n",
    "     # 进行结果融合\n",
    "    for i in range(400):\n",
    "        label_list=[label1[i],label2[i]]\n",
    "        box_list=[box1[i],box2[i]]\n",
    "\n",
    "        score_list=[score1[i],score2[i]]\n",
    "        box, score, label = weighted_boxes_fusion(box_list, score_list, label_list, weights=weights, iou_thr=iou_thr, skip_box_thr=0.0)\n",
    "    \n",
    "        boxes.append(list(box))\n",
    "        scores.append(list(score))\n",
    "        labels.append(list(label.astype(int)))\n",
    "\n",
    "    data=[]\n",
    "    for i in range(400):\n",
    "        for j in range(len(labels[i])):\n",
    "            boxes[i][j][0]*=200.0      # 反归一化\n",
    "            boxes[i][j][1]*=200.0\n",
    "            boxes[i][j][2]*=200.0\n",
    "            boxes[i][j][3]*=200.0\n",
    "            boxes[i][j]=[boxes[i][j][0],boxes[i][j][1],boxes[i][j][2],boxes[i][j][3]]\n",
    "            data.append([i+1400,boxes[i][j],labels[i][j],scores[i][j]])\n",
    "    # 将融合后的结果写入新的文件\n",
    "    with open(\"/home/aistudio/Csv/比赛提交/Swin+r101/submission.csv\",'w',newline='') as f:\n",
    "        writer=csv.writer(f)\n",
    "        writer.writerow(['image_id','bbox','category_id','confidence'])\n",
    "        writer.writerows(data)"
   ]
  },
  {
   "cell_type": "code",
   "execution_count": null,
   "metadata": {
    "scrolled": true
   },
   "outputs": [],
   "source": [
    "submission1 = '/home/aistudio/Csv/比赛提交/Swin/submission_final.csv'    # 文件路径\n",
    "submission2 = '/home/aistudio/Csv/比赛提交/r101/submission_final.csv'\n",
    "weights=[3,1]\n",
    "iou_thr=0.7\n",
    "wbf_2models(submission1, submission2, weights, iou_thr)"
   ]
  },
  {
   "cell_type": "markdown",
   "metadata": {},
   "source": [
    "最终融合的结果保存在 /home/aistudio/Csv/比赛提交/Swin+r101"
   ]
  }
 ],
 "metadata": {
  "kernelspec": {
   "display_name": "Python 3",
   "language": "python",
   "name": "py35-paddle1.2.0"
  },
  "language_info": {
   "codemirror_mode": {
    "name": "ipython",
    "version": 3
   },
   "file_extension": ".py",
   "mimetype": "text/x-python",
   "name": "python",
   "nbconvert_exporter": "python",
   "pygments_lexer": "ipython3",
   "version": "3.7.4"
  },
  "toc-autonumbering": false,
  "toc-showcode": false,
  "toc-showmarkdowntxt": false,
  "toc-showtags": false
 },
 "nbformat": 4,
 "nbformat_minor": 4
}
